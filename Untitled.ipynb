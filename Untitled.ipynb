{
 "cells": [
  {
   "cell_type": "code",
   "execution_count": 1,
   "id": "77f3a588",
   "metadata": {},
   "outputs": [
    {
     "name": "stdout",
     "output_type": "stream",
     "text": [
      "Requirement already satisfied: pandas in c:\\users\\hp\\anaconda3\\envs\\abinash\\lib\\site-packages (1.5.2)\n",
      "Requirement already satisfied: numpy>=1.21.0 in c:\\users\\hp\\anaconda3\\envs\\abinash\\lib\\site-packages (from pandas) (1.23.5)\n",
      "Requirement already satisfied: pytz>=2020.1 in c:\\users\\hp\\anaconda3\\envs\\abinash\\lib\\site-packages (from pandas) (2022.6)\n",
      "Requirement already satisfied: python-dateutil>=2.8.1 in c:\\users\\hp\\anaconda3\\envs\\abinash\\lib\\site-packages (from pandas) (2.8.2)\n",
      "Requirement already satisfied: six>=1.5 in c:\\users\\hp\\anaconda3\\envs\\abinash\\lib\\site-packages (from python-dateutil>=2.8.1->pandas) (1.16.0)\n",
      "Requirement already satisfied: numpy in c:\\users\\hp\\anaconda3\\envs\\abinash\\lib\\site-packages (1.23.5)\n"
     ]
    }
   ],
   "source": [
    "!pip install pandas\n",
    "!pip install numpy"
   ]
  },
  {
   "cell_type": "code",
   "execution_count": 2,
   "id": "361affe4",
   "metadata": {},
   "outputs": [],
   "source": [
    "import pandas as pd\n",
    "import random\n",
    "import numpy as np\n",
    "import matplotlib.pyplot as plt"
   ]
  },
  {
   "cell_type": "markdown",
   "id": "a431d7f0",
   "metadata": {},
   "source": [
    "<h3> collecting data set </h3>"
   ]
  },
  {
   "cell_type": "code",
   "execution_count": 3,
   "id": "bd02f86e",
   "metadata": {},
   "outputs": [],
   "source": [
    "df=pd.read_csv('flower_dataset.csv')\n",
    "df\n",
    "features=np.array(df[['X1','X2']])\n",
    "labels=np.array(df['Y']).reshape(-1,1)\n"
   ]
  },
  {
   "cell_type": "markdown",
   "id": "00e57e3f",
   "metadata": {},
   "source": [
    "<h3>perceptron creation</h3>\n"
   ]
  },
  {
   "cell_type": "code",
   "execution_count": 4,
   "id": "2ce93f87",
   "metadata": {},
   "outputs": [
    {
     "data": {
      "text/plain": [
       "<matplotlib.collections.PathCollection at 0x1e4d8fae9b0>"
      ]
     },
     "execution_count": 4,
     "metadata": {},
     "output_type": "execute_result"
    },
    {
     "data": {
      "image/png": "[encoded data removed]",
      "text/plain": [
       "<Figure size 640x480 with 1 Axes>"
      ]
     },
     "metadata": {},
     "output_type": "display_data"
    }
   ],
   "source": [
    "plt.scatter(x=df['X1'],y=df['X2'])"
   ]
  },
  {
   "cell_type": "markdown",
   "id": "c29b7d6d",
   "metadata": {},
   "source": [
    "<h3>3.2 coding perceptron</h3>"
   ]
  },
  {
   "cell_type": "code",
   "execution_count": 9,
   "id": "f79be598",
   "metadata": {},
   "outputs": [],
   "source": [
    "def sigmoid(x):    \n",
    "    return 1/(1+np.exp(-x))\n",
    "\n",
    "def cost(P,A):\n",
    "    return (P-A)**2\n",
    "\n",
    "def d_cost(P,A):\n",
    "    h=0.001\n",
    "    return (cost(P+h,A)-cost(P,A))/h\n",
    "\n",
    "def d_sigmoid(x):\n",
    "    h=0.0001\n",
    "    return (sigmoid(x+h)-sigmoid(x))/h\n",
    "\n",
    "\n",
    "\n",
    "\n",
    "def train_model_perceptron(weights,bias,alpha,features,labels,epochs):\n",
    "    for epoch in range(int(epochs)): \n",
    "        z=np.dot(features,weights)+bias\n",
    "        P=[sigmoid(i) for i in z]\n",
    "        for index in range(len(z)):\n",
    "            weights=[weights[indx]-alpha*d_cost(P[index],labels[index][0])*d_sigmoid(z[index])*features[index][indx] for indx in range(len(weights))]    \n",
    "            bias=bias-alpha*d_cost(P[index],labels[index][0])*d_sigmoid(z[index])\n",
    "    return weights,bias"
   ]
  },
  {
   "cell_type": "markdown",
   "id": "0b846095",
   "metadata": {},
   "source": [
    "<h3>3.3 testing perceptron</h3>"
   ]
  },
  {
   "cell_type": "code",
   "execution_count": 12,
   "id": "532460f3",
   "metadata": {},
   "outputs": [
    {
     "name": "stdout",
     "output_type": "stream",
     "text": [
      "Enter value of length and width seperate with comma: 4,.3\n",
      "[4.0, 0.3]\n",
      "1\n"
     ]
    },
    {
     "data": {
      "image/png": "[encoded data removed]",
      "text/plain": [
       "<Figure size 640x480 with 1 Axes>"
      ]
     },
     "metadata": {},
     "output_type": "display_data"
    }
   ],
   "source": [
    "weights=np.array([0.25,0.65])\n",
    "bias=0.25\n",
    "alpha=0.001\n",
    "\n",
    "weights,bias=train_model_perceptron(weights,bias,alpha,features,labels,3500)\n",
    "input_val=[float(i) for i in (input('Enter value of length and width seperate with comma: ')).split(',')]\n",
    "print(input_val)\n",
    "z=np.dot(input_val,weights)+bias\n",
    "output=sigmoid(z)\n",
    "if output>=0.50:\n",
    "    output=1 \n",
    "else: \n",
    "    output=0\n",
    "print(output)\n",
    "\n",
    "\n",
    "plt.scatter(x=df['X1'],y=df['X2'])\n",
    "plt.scatter(x=input_val[0],y=input_val[1],color='red')\n",
    "\n",
    "plt.show()"
   ]
  },
  {
   "cell_type": "code",
   "execution_count": null,
   "id": "f68d2483",
   "metadata": {},
   "outputs": [],
   "source": []
  }
 ],
 "metadata": {
  "kernelspec": {
   "display_name": "Python 3 (ipykernel)",
   "language": "python",
   "name": "python3"
  },
  "language_info": {
   "codemirror_mode": {
    "name": "ipython",
    "version": 3
   },
   "file_extension": ".py",
   "mimetype": "text/x-python",
   "name": "python",
   "nbconvert_exporter": "python",
   "pygments_lexer": "ipython3",
   "version": "3.10.8"
  },
  "vscode": {
   "interpreter": {
    "hash": "f3349b5285aeb9a557b789f87db69cff12826af0913651c617f14969b84d27ec"
   }
  }
 },
 "nbformat": 4,
 "nbformat_minor": 5
}
